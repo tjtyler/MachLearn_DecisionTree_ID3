{
  "cells": [
    {
      "cell_type": "markdown",
      "metadata": {
        "id": "view-in-github",
        "colab_type": "text"
      },
      "source": [
        "<a href=\"https://colab.research.google.com/github/tjtyler/MachLearn_DecisionTree_ID3/blob/main/lab_3_decision_tree.ipynb\" target=\"_parent\"><img src=\"https://colab.research.google.com/assets/colab-badge.svg\" alt=\"Open In Colab\"/></a>"
      ]
    },
    {
      "cell_type": "markdown",
      "metadata": {
        "id": "fxnT6qYjmuAl"
      },
      "source": [
        "# Decision Tree Lab"
      ]
    },
    {
      "cell_type": "code",
      "execution_count": 3,
      "metadata": {
        "id": "z4PM4YMtmuAo"
      },
      "outputs": [],
      "source": [
        "from sklearn.base import BaseEstimator, ClassifierMixin\n",
        "from sklearn.tree import DecisionTreeClassifier\n",
        "import numpy as np\n",
        "import matplotlib.pyplot as plt\n",
        "from scipy import stats as st\n",
        "import math "
      ]
    },
    {
      "cell_type": "code",
      "source": [
        "from google.colab import drive\n",
        "drive.mount('/content/drive')"
      ],
      "metadata": {
        "colab": {
          "base_uri": "https://localhost:8080/"
        },
        "id": "8q36PewWCLZ6",
        "outputId": "2c94ef04-447f-49c4-e62b-94488f7bb534"
      },
      "execution_count": 4,
      "outputs": [
        {
          "output_type": "stream",
          "name": "stdout",
          "text": [
            "Mounted at /content/drive\n"
          ]
        }
      ]
    },
    {
      "cell_type": "markdown",
      "metadata": {
        "id": "UR8Tao6WmuAq"
      },
      "source": [
        "## 1. (40%) Correctly implement the ID3 decision tree algorithm, including the ability to handle unknown attributes (You do not need to handle real valued attributes).  \n",
        "### Code Requirements/Notes:\n",
        "- Use standard information gain as your basic attribute evaluation metric.  (Note that normal ID3 would usually augment information gain with gain ratio or some other mechanism to penalize statistically insignificant attribute splits.) \n",
        "- You are welcome to create other classes and/or functions in addition to the ones provided below. (e.g. If you build out a tree structure, you might create a node class).\n",
        "- It is a good idea to use a simple data set (like the lenses data or the pizza homework), which you can check by hand, to test your algorithm to make sure that it is working correctly. "
      ]
    },
    {
      "cell_type": "code",
      "source": [
        "#--------NODE CLASS-------------\n",
        "class Node():\n",
        "\n",
        "  def __init__(self, X, y, feat_indx=None, parent=None, is_leaf=False, is_root=False):\n",
        "    \"\"\"\n",
        "    Args:\n",
        "        parent_entropy [float]: the entropy of the parent node\n",
        "        data_array [2D numpy array]: this is an array of the input and target data that only that has been sliced to only include elements filtered by its' parents\n",
        "        attr_count [int]: this is the value from the count list that corresponds to the attribute being considered (the number of attributes in the category remaining)\n",
        "    \"\"\"\n",
        "    self.X = X # input features\n",
        "    self.y = y # output targets\n",
        "    self.parent = parent\n",
        "    self.is_root = is_root\n",
        "    self.is_leaf_node = is_leaf\n",
        "    self.feat_indx = feat_indx\n",
        "    self.children = []\n",
        "    self.majority_class = None\n",
        "    self.entropy = None\n",
        "    self.proportions = []\n",
        "    self.counts = []\n",
        "    self.children_Xs = []\n",
        "    self.children_ys = []\n",
        "\n",
        "  def calc_entropy(self):\n",
        "    self.calc_majority_class()\n",
        "    xy_concat = np.concatenate((self.X,self.y), axis=1)\n",
        "    self.counts = self.calc_counts(xy_concat)\n",
        "    wts = self.calc_wts(xy_concat) # wts = array([float,...,float])\n",
        "    props = self.calc_props(xy_concat)\n",
        "    self.entropy = self.calc_WTavrg_entropy(wts, props)\n",
        "    if self.entropy == 0:\n",
        "      self.is_leaf_node = True\n",
        "\n",
        "  def calc_majority_class(self):\n",
        "    counts = np.bincount(self.y.flatten())\n",
        "    self.majority_class = np.argmax(counts)\n",
        "\n",
        "  def calc_counts(self, data):\n",
        "    counts = []\n",
        "    for i in range(data.shape[1]):\n",
        "      counts.append(np.bincount(data[:,i]).shape[0])\n",
        "    return counts\n",
        "\n",
        "  \n",
        "  def calc_wts(self,xy_concat):\n",
        "    counts = np.bincount(xy_concat[:,self.feat_indx]) # counts = array([int,...,int]): these are counts of each attr \n",
        "    wts = counts / np.sum(counts) # wts = array([float,...,float]): these are proportions (counts_per_attr / total_count)\n",
        "    return wts\n",
        "\n",
        "  def calc_props(self,xy_concat):\n",
        "    \"\"\"\n",
        "    xy_concat: the X (input) and y (targets) concatenated\n",
        "    val: the attribute being considered (the column # in the input array, X)\n",
        "    \"\"\"\n",
        "    props = []\n",
        "    for j in range(self.counts[self.feat_indx]):\n",
        "      arr = xy_concat[xy_concat[:,self.feat_indx] == j] # this will make a sub-array from xy_concat that is just the rows that have an element in the 'self.feat_indx' column that is equal to 'val'\n",
        "      self.children_Xs.append(arr[:,:-1]) \n",
        "      self.children_ys.append(arr[:,-1:])\n",
        "      counts = np.bincount(arr[:,-1]) # counts (array([int,...,int])) = the number of each class in our sub-array \n",
        "      prop = counts / np.sum(counts) # props (array([float,...,float])) = the proportions of the \n",
        "      props.append(prop)\n",
        "    return props\n",
        "  \n",
        "  def calc_WTavrg_entropy(self,wts, props_list):\n",
        "    \"\"\"\n",
        "    wts (numpy array): array([float,...,float])\n",
        "    props_list (list of numpy arrays): [array([float,...,float]),...,array([float,...,float])]\n",
        "    \"\"\"\n",
        "    avrg_ent = 0\n",
        "    for i in range(wts.shape[0]):\n",
        "      ent = 0\n",
        "      for j in range(props_list[i].shape[0]):\n",
        "        if props_list[i][j] != 0:\n",
        "          ent += -props_list[i][j]*math.log2(props_list[i][j])\n",
        "      avrg_ent += wts[i]*ent\n",
        "    return avrg_ent\n",
        "  \n",
        "  def get_entropy(self):\n",
        "    return self.entropy\n",
        "  \n",
        "  def get_majority_class(self):\n",
        "    return self.majority_class\n",
        "\n",
        "  def get_is_leaf(self):\n",
        "    return self.is_leaf_node"
      ],
      "metadata": {
        "id": "qcfobroqNRcn"
      },
      "execution_count": 6,
      "outputs": []
    },
    {
      "cell_type": "code",
      "source": [
        "import math \n",
        "def calc_entropy(proportions_tup):\n",
        "  num_elements = len(proportions_tup)\n",
        "  entropy = 0\n",
        "  for i in range(num_elements):\n",
        "    if proportions_tup[i] != 0:\n",
        "      entropy += -proportions_tup[i]*math.log2(proportions_tup[i])\n",
        "  return entropy\n",
        "\n",
        "def calc_avrg_entropy(attr_props, sub_props):\n",
        "  \"\"\"\n",
        "  attr_props is the overall proportions of the class\n",
        "  sub_props is a 2D python list of np.arrays that contain the proportions of each attr within a class\n",
        "\n",
        "  return a list of average entropies for class\n",
        "  \"\"\"\n",
        "  avrg_entropies = []\n",
        "  for i in range(len(attr_props)-1):\n",
        "    entropy = 0\n",
        "    for j in range(attr_props[i].shape[0]):\n",
        "      entropy += attr_props[i][j]*calc_entropy(sub_props[i][j])\n",
        "    avrg_entropies.append(entropy)\n",
        "  return avrg_entropies\n",
        "  "
      ],
      "metadata": {
        "id": "l9bYkmMHzQWN"
      },
      "execution_count": null,
      "outputs": []
    },
    {
      "cell_type": "code",
      "source": [
        "HW_data = np.array([['Y', 'Thin', 'N', 'Great'],\n",
        "                    ['N','Deep', 'N', 'Bad'],\n",
        "                    ['N', 'Stuffed', 'Y','Good'],\n",
        "                    ['Y', 'Stuffed','Y','Great'],\n",
        "                    ['Y','Deep','N','Good'],\n",
        "                    ['Y','Deep','Y','Great'],\n",
        "                    ['N','Thin','Y','Good'],\n",
        "                    ['Y','Deep','N','Good'],\n",
        "                    ['N','Thin','N','Bad']])\n",
        "# N = 0; Y = 1; \n",
        "# Deep = 0; Stuffed = 1; Thin = 2\n",
        "# Bad = 0; Good = 1; Great = 2\n",
        "\n",
        "HW_data[HW_data == 'Y'] = 1\n",
        "HW_data[HW_data == 'N'] = 0\n",
        "HW_data[HW_data == 'Deep'] = 0\n",
        "HW_data[HW_data == 'Stuffed'] = 1\n",
        "HW_data[HW_data == 'Thin'] = 2\n",
        "HW_data[HW_data == 'Bad'] = 0\n",
        "HW_data[HW_data == 'Good'] = 1\n",
        "HW_data[HW_data == 'Great'] = 2\n",
        "HW_data = HW_data.astype(int)\n",
        "print(HW_data)\n",
        "\n",
        "counts = []\n",
        "for i in range(HW_data.shape[1]):\n",
        "  counts.append(np.bincount(HW_data[:,i]).shape[0])\n",
        "print('counts: \\n', counts)\n",
        "\n",
        "\n",
        "proportions_list = []\n",
        "for col in range(HW_data.shape[1]):\n",
        "  prop = np.bincount(HW_data[:,col])\n",
        "  prop = prop / np.sum(prop)\n",
        "  proportions_list.append(prop)\n",
        "print(proportions_list)\n",
        "\n",
        "parent_node_entropy = calc_entropy(proportions_list[-1])\n",
        "\n",
        "# children_entropies = []\n",
        "# for i in range(len(proportions_list)):\n",
        "#   children_entropies.append(calc_entropy(proportions_list[i]))\n",
        "# print('children_entropies', children_entropies)\n",
        "sub_attr_proportions = []\n",
        "for i in range(len(proportions_list)-1):\n",
        "  attr_props = []\n",
        "  for j in range(counts[i]):\n",
        "    data_arr = HW_data[HW_data[:,i] == j] \n",
        "    print('data:\\n',data_arr)\n",
        "    prop = np.bincount(data_arr[:,-1])\n",
        "    prop = prop/np.sum(prop)\n",
        "    attr_props.append(prop)\n",
        "  sub_attr_proportions.append(attr_props)\n",
        "print('sub_attr_proportions\\n', sub_attr_proportions)\n",
        "\n",
        "for i in range(len(sub_attr_proportions)):\n",
        "  for j in range(len(sub_attr_proportions[i])):\n",
        "    for prop in sub_attr_proportions[i][j]:\n",
        "      print('prop = ', prop)\n",
        "\n",
        "children_avrg_entropies = calc_avrg_entropy(proportions_list, sub_attr_proportions)\n",
        "print('children_avrg_entropies:\\n',children_avrg_entropies)\n",
        "\n",
        "information_gained = []\n",
        "for i in range(len(children_avrg_entropies)):\n",
        "  info_gained = parent_node_entropy - children_avrg_entropies[i]\n",
        "  information_gained.append(info_gained)\n",
        "\n",
        "print('information_gained:\\n', information_gained)\n",
        "\n",
        "node_to_split_on = information_gained.index(max(information_gained))\n",
        "print('node_to_split_on ', node_to_split_on)\n",
        "# zero_meat = HW_data[HW_data[:,0] == 0] \n",
        "# print('no meat data:\\n',zero_meat)\n",
        "# prop = np.bincount(zero_meat[:,-1])\n",
        "# print(prop/np.sum(prop))\n",
        "\n",
        "\n"
      ],
      "metadata": {
        "colab": {
          "base_uri": "https://localhost:8080/"
        },
        "id": "SEHcED2uHokG",
        "outputId": "1dd3caad-fb49-472a-90c5-bcceb21335c8"
      },
      "execution_count": null,
      "outputs": [
        {
          "output_type": "stream",
          "name": "stdout",
          "text": [
            "[[1 2 0 2]\n",
            " [0 0 0 0]\n",
            " [0 1 1 1]\n",
            " [1 1 1 2]\n",
            " [1 0 0 1]\n",
            " [1 0 1 2]\n",
            " [0 2 1 1]\n",
            " [1 0 0 1]\n",
            " [0 2 0 0]]\n",
            "counts: \n",
            " [2, 3, 2, 3]\n",
            "[array([0.44444444, 0.55555556]), array([0.44444444, 0.22222222, 0.33333333]), array([0.55555556, 0.44444444]), array([0.22222222, 0.44444444, 0.33333333])]\n",
            "data:\n",
            " [[0 0 0 0]\n",
            " [0 1 1 1]\n",
            " [0 2 1 1]\n",
            " [0 2 0 0]]\n",
            "data:\n",
            " [[1 2 0 2]\n",
            " [1 1 1 2]\n",
            " [1 0 0 1]\n",
            " [1 0 1 2]\n",
            " [1 0 0 1]]\n",
            "data:\n",
            " [[0 0 0 0]\n",
            " [1 0 0 1]\n",
            " [1 0 1 2]\n",
            " [1 0 0 1]]\n",
            "data:\n",
            " [[0 1 1 1]\n",
            " [1 1 1 2]]\n",
            "data:\n",
            " [[1 2 0 2]\n",
            " [0 2 1 1]\n",
            " [0 2 0 0]]\n",
            "data:\n",
            " [[1 2 0 2]\n",
            " [0 0 0 0]\n",
            " [1 0 0 1]\n",
            " [1 0 0 1]\n",
            " [0 2 0 0]]\n",
            "data:\n",
            " [[0 1 1 1]\n",
            " [1 1 1 2]\n",
            " [1 0 1 2]\n",
            " [0 2 1 1]]\n",
            "sub_attr_proportions\n",
            " [[array([0.5, 0.5]), array([0. , 0.4, 0.6])], [array([0.25, 0.5 , 0.25]), array([0. , 0.5, 0.5]), array([0.33333333, 0.33333333, 0.33333333])], [array([0.4, 0.4, 0.2]), array([0. , 0.5, 0.5])]]\n",
            "prop =  0.5\n",
            "prop =  0.5\n",
            "prop =  0.0\n",
            "prop =  0.4\n",
            "prop =  0.6\n",
            "prop =  0.25\n",
            "prop =  0.5\n",
            "prop =  0.25\n",
            "prop =  0.0\n",
            "prop =  0.5\n",
            "prop =  0.5\n",
            "prop =  0.3333333333333333\n",
            "prop =  0.3333333333333333\n",
            "prop =  0.3333333333333333\n",
            "prop =  0.4\n",
            "prop =  0.4\n",
            "prop =  0.2\n",
            "prop =  0.0\n",
            "prop =  0.5\n",
            "prop =  0.5\n",
            "children_avrg_entropies:\n",
            " [0.9838614413637048, 1.4172097224626075, 1.2899600527152013]\n",
            "information_gained:\n",
            " [0.5466316153937778, 0.11328333429487514, 0.24053300404228128]\n",
            "node_to_split_on  0\n"
          ]
        }
      ]
    },
    {
      "cell_type": "code",
      "source": [
        "HW_data = np.array([['Y', 'Thin', 'N', 'Great'],\n",
        "                    ['N','Deep', 'N', 'Bad'],\n",
        "                    ['N', 'Stuffed', 'Y','Good'],\n",
        "                    ['Y', 'Stuffed','Y','Great'],\n",
        "                    ['Y','Deep','N','Good'],\n",
        "                    ['Y','Deep','Y','Great'],\n",
        "                    ['N','Thin','Y','Good'],\n",
        "                    ['Y','Deep','N','Good'],\n",
        "                    ['N','Thin','N','Bad']])\n",
        "# N = 0; Y = 1; \n",
        "# Deep = 0; Stuffed = 1; Thin = 2\n",
        "# Bad = 0; Good = 1; Great = 2\n",
        "\n",
        "HW_data[HW_data == 'Y'] = 1\n",
        "HW_data[HW_data == 'N'] = 0\n",
        "HW_data[HW_data == 'Deep'] = 0\n",
        "HW_data[HW_data == 'Stuffed'] = 1\n",
        "HW_data[HW_data == 'Thin'] = 2\n",
        "HW_data[HW_data == 'Bad'] = 0\n",
        "HW_data[HW_data == 'Good'] = 1\n",
        "HW_data[HW_data == 'Great'] = 2\n",
        "HW_data = HW_data.astype(int)\n",
        "X = HW_data[:,:-1]\n",
        "y = HW_data[:,-1:]\n",
        "\n",
        "nodes = []\n",
        "nodes_entropies = []\n",
        "for i in range(X.shape[1]):\n",
        "  node = Node(X,y,i)\n",
        "  node.calc_entropy()\n",
        "  print('node entropy ', node.get_entropy())\n",
        "  nodes_entropies.append(node.get_entropy())\n",
        "  nodes.append(node)\n",
        "next_node_indx = nodes_entropies.index(min(nodes_entropies))\n",
        "root_node = nodes[next_node_indx]\n",
        "\n",
        "print(root_node.get_majority_class())\n",
        "print(root_node.get_entropy())\n"
      ],
      "metadata": {
        "colab": {
          "base_uri": "https://localhost:8080/"
        },
        "id": "mpQqqmCGr0q3",
        "outputId": "9d5dc826-cfb9-4560-b4ca-f6a906c9700c"
      },
      "execution_count": null,
      "outputs": [
        {
          "output_type": "stream",
          "name": "stdout",
          "text": [
            "node entropy  0.9838614413637048\n",
            "node entropy  1.4172097224626075\n",
            "node entropy  1.2899600527152013\n",
            "1\n",
            "0.9838614413637048\n"
          ]
        }
      ]
    },
    {
      "cell_type": "code",
      "source": [
        "class Node():\n",
        "  def __init__(self,X,y,par_node=None, par_entrop=None, node_feat=None, leaf=False,split_indx=None, depth=0):\n",
        "    self.X=X\n",
        "    self.y=y\n",
        "    self.entropy = self.entropy()\n",
        "    self.parent_entropy = par_entrop\n",
        "    self.parent_node = par_node\n",
        "    self.children = []\n",
        "    self.leaf = leaf\n",
        "    self.depth = depth\n",
        "    self.split_indx = split_indx #index of attrib to split on\n",
        "    self.maj_class = None\n",
        "    self.info_gained = None\n",
        "    self.counts = self.calc_counts()\n",
        "    self.node_feat = node_feat\n",
        "\n",
        "  def entropy(self):\n",
        "    quants = np.bincount(self.y.flatten())\n",
        "    props = quants / np.sum(quants)\n",
        "    entrop = 0\n",
        "    for i in range(len(quants)):\n",
        "      if props[i] != 0:\n",
        "        entrop += -props[i]*math.log2(props[i])\n",
        "    return entrop\n",
        "  \n",
        "  def calc_counts(self):\n",
        "    xy_concat = np.concatenate((self.X, self.y.reshape(self.y.shape[0],1)), axis=1)\n",
        "    cnts = []\n",
        "    for i in range(xy_concat.shape[1]):\n",
        "      cnts.append(np.bincount(xy_concat[:,i]).shape[0])\n",
        "    return cnts\n",
        "\n",
        "\n",
        "  def set_split_indx(self, split_indx):\n",
        "    self.split_indx = split_indx\n",
        "  \n",
        "  def set_children(self, children):\n",
        "    self.children = children\n",
        "\n",
        "  def set_is_leaf(self,leaf):\n",
        "    self.leaf = leaf\n",
        "  \n",
        "  def set_majority_cls(self, cls):\n",
        "    self.maj_class = cls\n",
        "\n",
        "  def set_info_gained(self,info_gained):\n",
        "    self.info_gained = info_gained\n"
      ],
      "metadata": {
        "id": "71RmNY3yUDUM"
      },
      "execution_count": 5,
      "outputs": []
    },
    {
      "cell_type": "code",
      "execution_count": 12,
      "metadata": {
        "id": "FZntcQT9muAr"
      },
      "outputs": [],
      "source": [
        "class DTClassifier(BaseEstimator,ClassifierMixin):\n",
        "\n",
        "    def __init__(self):\n",
        "        \"\"\" Initialize class with chosen hyperparameters.\n",
        "        Args:\n",
        "        Optional Args (Args we think will make your life easier):\n",
        "            counts: A list of Ints that tell you how many types of each feature there are\n",
        "        Example:\n",
        "            DT  = DTClassifier()\n",
        "            or\n",
        "            DT = DTClassifier(count = [2,3,2,2])\n",
        "            Dataset = \n",
        "            [[0,1,0,0],\n",
        "            [1,2,1,1],\n",
        "            [0,1,1,0],\n",
        "            [1,2,0,1],\n",
        "            [0,0,1,1]]\n",
        "\n",
        "        \"\"\"\n",
        "        self.information_gained = []\n",
        "\n",
        "    def fit(self, X, y):\n",
        "        \"\"\" Fit the data; Make the Decision tree\n",
        "\n",
        "        Args:\n",
        "            X (array-like): A 2D numpy array with the training data, excluding targets\n",
        "            y (array-like): A 1D numpy array with the training targets\n",
        "\n",
        "        Returns:\n",
        "            self: this allows this to be chained, e.g. model.fit(X,y).predict(X_test)\n",
        "\n",
        "        \"\"\"\n",
        "        # self.root = Node()\n",
        "        # self.make_tree(self.root)\n",
        "        self.root = Node(X=X,y=y,par_node=None, par_entrop=None, node_feat=None, leaf=False,split_indx=None,depth=0)\n",
        "        self.make_tree(self.root)\n",
        "        return self\n",
        "\n",
        "    def make_tree(self,node):\n",
        "      # IF BASE CASE\n",
        "      # Base Case:\n",
        "        # if it's supposed to be a leaf node, make it a leaf node and set its majority class\n",
        "        # return\n",
        "      if node.entropy == 0:\n",
        "        node.set_is_leaf(True)\n",
        "        cls = node.y[0]\n",
        "        node.set_majority_cls(cls)\n",
        "        node.set_info_gained(node.entropy)\n",
        "        return\n",
        "\n",
        "      # IF THE NODE IS NOT A LEAF NODE THEN: \n",
        "        # DO STUFF\n",
        "        # Finding the best feature to split on\n",
        "        # Make the split (create all the children nodes) \n",
        "      else:\n",
        "        # FIND THE BEST FEATURE TO SPLIT ON\n",
        "        pos_children = [] # possible features to become children [[]]\n",
        "        avrg_children_ents = []\n",
        "\n",
        "        for ft_indx in range(node.X.shape[1]): # these are the columns of the X array\n",
        "          feat_cnts = np.bincount(node.X[:,ft_indx]) # this is a 1D np array that contains at each indx of the np.arr how many numbers are in in the column\n",
        "          feat_props = feat_cnts / np.sum(feat_cnts) # this is the proportions of each attribute of feat[ft_indx]\n",
        "          feat_children = [] # this will be a list of the children nodes of feat[ft_indx]\n",
        "          avrg_ent = 0 # average entropy of a feature's children\n",
        "          # LOOP OVER ALL OF THE ATTRIBUTES OF THE FEATURE (if counts = [3,4,3] and the feature is 0, then we loop from 0 to 2)\n",
        "          for unq_val in range(node.counts[ft_indx]):\n",
        "            xy_concat = np.concatenate((node.X, node.y.reshape(node.y.shape[0],1)), axis=1) # concatenate the X and y from the node that was passed in\n",
        "            Xy_child = xy_concat[xy_concat[:,ft_indx] == unq_val] # create the sub array for this child where the attribs of the feat = unq_val\n",
        "            child_X = Xy_child[:,:-1] # split Xy_child to get the X for the child\n",
        "            child_y = Xy_child[:,-1] # split Xy_child to get teh y for the child\n",
        "            child = Node(X=child_X,y=child_y,par_node=node, par_entrop=node.parent_entropy, node_feat=unq_val, depth=node.depth+1) # create the child node and increment its depth\n",
        "            avrg_ent += child.entropy*feat_props[unq_val] # add this child's entropy to the avrg entropy for this feature\n",
        "            feat_children.append(child) # add child to this features list of children\n",
        "          pos_children.append(feat_children) # add the list of children of the feature just condidered to the list of possible children\n",
        "          avrg_children_ents.append(avrg_ent) # add the avrg entropy of the children of the feature just considered to the lsit of average entropies\n",
        "\n",
        "        split_feat_indx = avrg_children_ents.index(min(avrg_children_ents)) # feature to split on wlll be the feature with the lowest avrg entropy\n",
        "        children_nodes = pos_children[split_feat_indx] # the children nodes of the feature to split on become the children nodes to keep\n",
        "        \n",
        "        node.set_split_indx(split_feat_indx) # set the splt_indx of the original node passed in\n",
        "        node.set_children(children_nodes) # assign the children to the original node passed in\n",
        "        # print('node.entropy: ', node.entropy)\n",
        "        # print('avrg_children_ents[split_feat_indx]: ', avrg_children_ents[split_feat_indx])\n",
        "        node.set_info_gained(node.entropy - avrg_children_ents[split_feat_indx])\n",
        "        self.information_gained.append(node.info_gained)\n",
        "        \n",
        "        # RECURSE ON CHILDREN\n",
        "        for child in children_nodes:\n",
        "          self.make_tree(child)\n",
        "\n",
        "    def print_tree(self):\n",
        "      self.print_tree_helper(self.root)\n",
        "\n",
        "    def print_tree_helper(self, node):\n",
        "    \n",
        "      # either print for a split node or print for a leaf node\n",
        "      if node.leaf:\n",
        "        print('\\t'*node.depth + f'prediction = {node.maj_class}')\n",
        "      # call print_tree on each child node\n",
        "      # ROOT NODE\n",
        "      else:\n",
        "        for child in node.children:\n",
        "          print('\\t'*node.depth + f'feature {node.split_indx} = ' + f'{child.node_feat}')\n",
        "          self.print_tree_helper(child)\n",
        "          \n",
        "\n",
        "    def predict(self, X):\n",
        "        \"\"\" Predict all classes for a dataset X\n",
        "\n",
        "        Args:\n",
        "            X (array-like): A 2D numpy array with the training data, excluding targets\n",
        "\n",
        "        Returns:\n",
        "            array, shape (n_samples,)\n",
        "                Predicted target values per element in X.\n",
        "        \"\"\"\n",
        "        predictions = []\n",
        "        # LOOP OVER THE INSTANCES OF THE DATA\n",
        "        for i in range(X.shape[0]):\n",
        "          inst = X[i]       \n",
        "          cur_node = self.root\n",
        "          \n",
        "          while not cur_node.leaf:\n",
        "            child_indx = inst[cur_node.split_indx]\n",
        "            cur_node = cur_node.children[child_indx]\n",
        "          predictions.append(cur_node.maj_class)\n",
        "        return predictions\n",
        "\n",
        "\n",
        "    def score(self, X, y, shuffle=True):\n",
        "        \"\"\" Return accuracy(Classification Acc) of model on a given dataset. Must implement own score function.\n",
        "\n",
        "        Args:\n",
        "            X (array-like): A 2D numpy array with data, excluding targets\n",
        "            y (array-like): A 1D numpy array of the targets \n",
        "        \"\"\"\n",
        "        if shuffle:\n",
        "          X,y = self._shuffle_data(X,y)\n",
        "        predictions = self.predict(X)\n",
        "        correct = 0\n",
        "        total = y.shape[0]\n",
        "        for i in range(0, y.shape[0]):\n",
        "          if predictions[i] == y[i][0]:\n",
        "            correct += 1\n",
        "        return correct/total\n",
        "\n",
        "    def _shuffle_data(self, X, y):\n",
        "      \"\"\" \n",
        "          Shuffle the data! This _ prefix suggests that this method should \n",
        "          only be called internally.\n",
        "          It might be easier to concatenate X & y and shuffle a single 2D \n",
        "          array, rather than shuffling X and y exactly the same way, \n",
        "          independently.\n",
        "      \"\"\"\n",
        "      single_arr = np.concatenate((X,y), axis=1) # concatenate X and y into a single array\n",
        "      np.random.shuffle(single_arr) # shuffle the rows of the concatenated X-y array\n",
        "      cutoff = single_arr.shape[1] - 1 # the point to split the X and y arrays after shuffling\n",
        "      X = single_arr[:,:cutoff] # the shuffled X array\n",
        "      y = single_arr[:,cutoff:] # the shuffled y array\n",
        "      return X,y\n",
        "\n",
        "    def get_information_gained(self):\n",
        "      return self.information_gained"
      ]
    },
    {
      "cell_type": "code",
      "source": [
        "# DEBUG HOMEWORK PIZZA PROBLEM\n",
        "\n",
        "HW_data = np.array([['Y', 'Thin', 'N', 'Great'],\n",
        "                    ['N','Deep', 'N', 'Bad'],\n",
        "                    ['N', 'Stuffed', 'Y','Good'],\n",
        "                    ['Y', 'Stuffed','Y','Great'],\n",
        "                    ['Y','Deep','N','Good'],\n",
        "                    ['Y','Deep','Y','Great'],\n",
        "                    ['N','Thin','Y','Good'],\n",
        "                    ['Y','Deep','N','Good'],\n",
        "                    ['N','Thin','N','Bad']])\n",
        "# N = 0; Y = 1; \n",
        "# Deep = 0; Stuffed = 1; Thin = 2\n",
        "# Bad = 0; Good = 1; Great = 2\n",
        "\n",
        "HW_data[HW_data == 'Y'] = 1\n",
        "HW_data[HW_data == 'N'] = 0\n",
        "HW_data[HW_data == 'Deep'] = 0\n",
        "HW_data[HW_data == 'Stuffed'] = 1\n",
        "HW_data[HW_data == 'Thin'] = 2\n",
        "HW_data[HW_data == 'Bad'] = 0\n",
        "HW_data[HW_data == 'Good'] = 1\n",
        "HW_data[HW_data == 'Great'] = 2\n",
        "HW_data = HW_data.astype(int)\n",
        "X = HW_data[:,:-1]\n",
        "y = HW_data[:,-1:]\n",
        "\n",
        "decision_tree = DTClassifier()\n",
        "decision_tree.fit(X,y)\n",
        "score = decision_tree.score(X=X,y=y)\n",
        "print('score ', score)\n",
        "decision_tree.print_tree()"
      ],
      "metadata": {
        "colab": {
          "base_uri": "https://localhost:8080/"
        },
        "id": "pbpgm49IQu-7",
        "outputId": "5afd54b3-fbce-4e1b-e466-3e163dbe4d46"
      },
      "execution_count": 89,
      "outputs": [
        {
          "output_type": "stream",
          "name": "stdout",
          "text": [
            "score  1.0\n",
            "feature 0 = 0\n",
            "\tfeature 2 = 0\n",
            "\t\tprediction = 0\n",
            "\tfeature 2 = 1\n",
            "\t\tprediction = 1\n",
            "feature 0 = 1\n",
            "\tfeature 1 = 0\n",
            "\t\tfeature 2 = 0\n",
            "\t\t\tprediction = 1\n",
            "\t\tfeature 2 = 1\n",
            "\t\t\tprediction = 2\n",
            "\tfeature 1 = 1\n",
            "\t\tprediction = 2\n",
            "\tfeature 1 = 2\n",
            "\t\tprediction = 2\n"
          ]
        }
      ]
    },
    {
      "cell_type": "markdown",
      "metadata": {
        "id": "jNKT1oNUmuAs"
      },
      "source": [
        "## 1.1 Debug\n",
        "\n",
        "Debug your model by training on the lenses dataset: [Debug Dataset (lenses.arff)](https://byu.instructure.com/courses/14142/files?preview=4622251)\n",
        "\n",
        "Test your model on the lenses test set: [Debug Test Dataset (lenses_test.arff)](https://byu.instructure.com/courses/14142/files?preview=4622254)\n",
        "\n",
        "Parameters:\n",
        "(optional) counts = [3,2,2,2] (You should compute this when you read in the data, before fitting)\n",
        "\n",
        "---\n",
        "\n",
        "Expected Results: Accuracy = [0.33]\n",
        "\n",
        "Predictions should match this file: [Lenses Predictions (pred_lenses.csv)](https://byu.instructure.com/courses/14142/files?preview=4622260)\n",
        "\n",
        "*NOTE: The [Lenses Prediction (pred_lenses.csv)](https://byu.instructure.com/courses/14142/files?preview=4622260) uses the following encoding: soft=2, hard=0, none=1. If your encoding is different, then your output will be different, but not necessarily incorrect.*\n",
        "\n",
        "Split Information Gains (These do not need to be in this exact order):\n",
        "\n",
        "[0.5487949406953987, 0.7704260414863775, 0.3166890883150208, 1.0, 0.4591479170272447, 0.9182958340544894]\n",
        "\n",
        "<!-- You should be able to get about 68% (61%-82%) predictive accuracy on the lenses data -->\n",
        "\n",
        "Here's what your decision tree splits should look like, and the corresponding child node predictions:\n",
        "\n",
        "Decision Tree:\n",
        "<pre>\n",
        "tear_prod_rate = normal:\n",
        "    astigmatism = no:\n",
        "        age = pre_presbyopic:\n",
        "            prediction: soft\n",
        "        age = presbyopic:\n",
        "            spectacle_prescrip = hypermetrope:\n",
        "                prediction: soft\n",
        "            spectacle_prescrip = myope:\n",
        "                prediction: none\n",
        "        age = young:\n",
        "            prediction: soft\n",
        "    astigmatism = yes:\n",
        "        spectacle_prescrip = hypermetrope:\n",
        "            age = pre_presbyopic:\n",
        "                prediction: none\n",
        "            age = presbyopic:\n",
        "                prediction: none\n",
        "            age = young:\n",
        "                prediction: hard\n",
        "        spectacle_prescrip = myope:\n",
        "            prediction: hard\n",
        "tear_prod_rate = reduced:\n",
        "    prediction: none\n",
        "</pre>"
      ]
    },
    {
      "cell_type": "code",
      "execution_count": 13,
      "metadata": {
        "id": "A5WsJACLmuAt",
        "colab": {
          "base_uri": "https://localhost:8080/"
        },
        "outputId": "0b96a25e-ad0e-466a-fd58-6d7a9a6ecfb2"
      },
      "outputs": [
        {
          "output_type": "stream",
          "name": "stdout",
          "text": [
            "Accuracy:  0.3333333333333333\n",
            "information gained:  [0.5487949406953982, 0.7704260414863778, 0.3166890883150208, 1.0, 0.4591479170272448, 0.9182958340544896]\n"
          ]
        }
      ],
      "source": [
        "from scipy.io.arff import loadarff \n",
        "import pandas as pd\n",
        "\n",
        "# Load debug training data\n",
        "raw_data = loadarff('/content/drive/MyDrive/School/CS_472_MachLearning/labs/lab3_decisionTree/data/lenses.arff')\n",
        "df_data = pd.DataFrame(raw_data[0])\n",
        "\n",
        "np_arr = df_data.to_numpy() #cast dataframe to numpy array\n",
        "np_arr[np_arr == b'young'] = 0 \n",
        "np_arr[np_arr == b'pre_presbyopic'] = 1 \n",
        "np_arr[np_arr == b'presbyopic'] = 2 \n",
        "\n",
        "np_arr[np_arr == b'myope'] = 0 \n",
        "np_arr[np_arr == b'hypermetrope'] = 1 \n",
        "\n",
        "np_arr[np_arr == b'no'] = 0\n",
        "np_arr[np_arr == b'yes'] = 1\n",
        "\n",
        "np_arr[np_arr == b'reduced'] = 0\n",
        "np_arr[np_arr == b'normal'] = 1\n",
        "\n",
        "np_arr[np_arr == b'soft'] = 0\n",
        "np_arr[np_arr == b'hard'] = 1\n",
        "np_arr[np_arr == b'none'] = 2\n",
        "\n",
        "np_arr = np_arr.astype(int)\n",
        "\n",
        "training_data = np_arr.copy()\n",
        "\n",
        "X_train = training_data[:,:-1]\n",
        "y_train = training_data[:,-1:]\n",
        "\n",
        "# Train Decision Tree\n",
        "decision_tree = DTClassifier()\n",
        "decision_tree.fit(X_train,y_train)\n",
        "\n",
        "\n",
        "# Load debug test data\n",
        "raw_data = loadarff('/content/drive/MyDrive/School/CS_472_MachLearning/labs/lab3_decisionTree/data/lenses_test.arff')\n",
        "df_data = pd.DataFrame(raw_data[0])\n",
        "\n",
        "np_arr = df_data.to_numpy() #cast dataframe to numpy array\n",
        "np_arr[np_arr == b'young'] = 0 \n",
        "np_arr[np_arr == b'pre_presbyopic'] = 1 \n",
        "np_arr[np_arr == b'presbyopic'] = 2 \n",
        "\n",
        "np_arr[np_arr == b'myope'] = 0 \n",
        "np_arr[np_arr == b'hypermetrope'] = 1 \n",
        "\n",
        "np_arr[np_arr == b'no'] = 0\n",
        "np_arr[np_arr == b'yes'] = 1\n",
        "\n",
        "np_arr[np_arr == b'reduced'] = 0\n",
        "np_arr[np_arr == b'normal'] = 1\n",
        "\n",
        "np_arr[np_arr == b'soft'] = 0\n",
        "np_arr[np_arr == b'hard'] = 1\n",
        "np_arr[np_arr == b'none'] = 2\n",
        "\n",
        "np_arr = np_arr.astype(int)\n",
        "\n",
        "test_data = np_arr.copy()\n",
        "\n",
        "X_test = test_data[:,:-1]\n",
        "y_test = test_data[:,-1:]\n",
        "\n",
        "# Predict and compute model accuracy\n",
        "score = decision_tree.score(X=X_test,y=y_test)\n",
        "print('Accuracy: ', score)\n",
        "\n",
        "# Print the information gain of every split you make.\n",
        "print('information gained: ', decision_tree.get_information_gained())\n"
      ]
    },
    {
      "cell_type": "code",
      "execution_count": null,
      "metadata": {
        "id": "cgUPhI6bmuAt"
      },
      "outputs": [],
      "source": [
        "# Optional/Additional Debugging Dataset - Pizza Homework\n",
        "# pizza_dataset = np.array([[1,2,0],[0,0,0],[0,1,1],[1,1,1],[1,0,0],[1,0,1],[0,2,1],[1,0,0],[0,2,0]])\n",
        "# pizza_labels = np.array([2,0,1,2,1,2,1,1,0])"
      ]
    },
    {
      "cell_type": "markdown",
      "metadata": {
        "id": "EMmh1D0PmuAu"
      },
      "source": [
        "## 1.2 Evaluation\n",
        "\n",
        "We will evaluate your model based on its performance on the zoo dataset. \n",
        "\n",
        "Train your model using this dataset: [Evaluation Train Dataset (zoo.arff)](https://byu.instructure.com/courses/14142/files?preview=4622270)\n",
        "\n",
        "Test your model on this dataset: [Evaluation Test Dataset (zoo_test.arff)](https://byu.instructure.com/courses/14142/files?preview=4622274)\n",
        "\n",
        "Parameters:\n",
        "(optional) counts = [2, 2, 2, 2, 2, 2, 2, 2, 2, 2, 2, 2, 6, 2, 2, 2] (You should compute this when you read in the data, before fitting)\n",
        "\n",
        "---\n",
        "Print out your accuracy on the evaluation test dataset.\n",
        "\n",
        "Print out the information gain of every split you make."
      ]
    },
    {
      "cell_type": "code",
      "execution_count": null,
      "metadata": {
        "id": "RTkt1squmuAv"
      },
      "outputs": [],
      "source": [
        "# Load evaluation training data\n",
        "\n",
        "\n",
        "# Train Decision Tree\n",
        "\n",
        "\n",
        "# Load evaluation test data\n",
        "\n",
        "\n",
        "# Print out the information gain for every split you make\n",
        "\n"
      ]
    },
    {
      "cell_type": "markdown",
      "metadata": {
        "id": "8edh2HFWmuAv"
      },
      "source": [
        "## 2. (20%) You will use your ID3 algorithm to induce decision trees for the cars dataset and the voting dataset.  Do not use a stopping criterion, but induce the tree as far as it can go (until classes are pure or there are no more data or attributes to split on).  \n",
        "- Implement and use 10-fold Cross Validation (CV) on each data set to predict how well the models will do on novel data.  \n",
        "- For each dataset, report the training and test classification accuracy for each fold and the average test accuracy. \n",
        "- As a rough sanity check, typical decision tree accuracies for these data sets are: Cars: .90-.95, Vote: .92-.95."
      ]
    },
    {
      "cell_type": "markdown",
      "metadata": {
        "id": "vjLh24oDmuAw"
      },
      "source": [
        "## 2.1 Implement 10-fold Cross Validation"
      ]
    },
    {
      "cell_type": "code",
      "execution_count": null,
      "metadata": {
        "id": "-lnd6N25muAw"
      },
      "outputs": [],
      "source": [
        "# Write a function that implements 10-fold cross validation"
      ]
    },
    {
      "cell_type": "markdown",
      "metadata": {
        "id": "tnGxm88EmuAw"
      },
      "source": [
        "##  2.2 Cars Dataset\n",
        "- Use this [Cars Dataset (cars.arff)](hhttps://byu.instructure.com/courses/14142/files?preview=4622293)\n",
        "- Make a table for your k-fold cross validation accuracies\n",
        "\n",
        "*If you are having trouble using scipy's loadarff function (scipy.io.arff.loadarff), try:*\n",
        "\n",
        "*pip install arff &nbsp;&nbsp;&nbsp;&nbsp;          # Install arff library*\n",
        "\n",
        "*import arff as arf*                   \n",
        "\n",
        "*cars = list(arf.load('cars.arff'))   &nbsp;&nbsp;&nbsp;&nbsp;# Load your downloaded dataset (!curl, etc.)*\n",
        "\n",
        "*df = pd.DataFrame(cars)*  \n",
        "\n",
        "*There may be additional cleaning needed*"
      ]
    },
    {
      "cell_type": "code",
      "execution_count": null,
      "metadata": {
        "id": "WQTa7AecmuAx"
      },
      "outputs": [],
      "source": [
        "# Use 10-fold CV on Cars Dataset\n",
        "\n",
        "# Report Training and Test Classification Accuracies\n",
        "\n",
        "# Report Average Test Accuracy"
      ]
    },
    {
      "cell_type": "markdown",
      "metadata": {
        "id": "s9ul48zkmuAx"
      },
      "source": [
        "## 2.3 Voting Dataset\n",
        "- Use this [Voting Dataset with missing values (voting_with_missing.arff)](https://byu.instructure.com/courses/14142/files?preview=4622298)\n",
        "- Note that you will need to support unknown attributes in the voting data set. "
      ]
    },
    {
      "cell_type": "code",
      "execution_count": null,
      "metadata": {
        "id": "CmWdEbGxmuAx"
      },
      "outputs": [],
      "source": [
        "# Used 10-fold CV on Voting Dataset\n",
        "\n",
        "# Report Training and Test Classification Accuracies\n",
        "\n",
        "# Report Average Test Accuracy"
      ]
    },
    {
      "cell_type": "markdown",
      "metadata": {
        "id": "_8PraMbJmuAy"
      },
      "source": [
        "## 2.4 Discuss Your Results\n",
        "\n",
        "- Summarize your results from both datasets, and discuss what you observed. \n",
        "- A fully expanded tree will often get 100% accuracy on the training set. Why does this happen and in what cases might it not?  "
      ]
    },
    {
      "cell_type": "markdown",
      "metadata": {
        "id": "6poS45-CmuAy"
      },
      "source": [
        "Discuss your results"
      ]
    },
    {
      "cell_type": "markdown",
      "metadata": {
        "id": "swx-3h5_muAy"
      },
      "source": [
        "## 3. (15%) For each of the two problems above, summarize in English what the decision tree has learned (i.e., look at the induced tree and describe what rules it has discovered to try to solve each task). \n",
        "- If the tree is very large you can just discuss a few of the more shallow attribute combinations and the most important decisions made high in the tree."
      ]
    },
    {
      "cell_type": "markdown",
      "metadata": {
        "id": "BHrhN-sJmuAy"
      },
      "source": [
        "## 3.1 Discuss what the decision tree induced on the cars dataset has learned"
      ]
    },
    {
      "cell_type": "markdown",
      "metadata": {
        "id": "xbcT0lr7muAz"
      },
      "source": [
        "Discussion Here"
      ]
    },
    {
      "cell_type": "markdown",
      "metadata": {
        "id": "vJcvXPKJmuAz"
      },
      "source": [
        "## 3.2 Discuss what the decision tree induced on the voting dataset has learned"
      ]
    },
    {
      "cell_type": "markdown",
      "metadata": {
        "id": "SRWflACnmuAz"
      },
      "source": [
        "Discussion Here"
      ]
    },
    {
      "cell_type": "markdown",
      "metadata": {
        "id": "OkkfBYODmuAz"
      },
      "source": [
        "## 3.3 How did you handle unknown attributes in the voting problem? Why did you choose this approach? (Do not use the approach of just throwing out data with unknown attributes)."
      ]
    },
    {
      "cell_type": "markdown",
      "metadata": {
        "id": "4E-K0slxmuAz"
      },
      "source": [
        "Discuss how you handled unknown attributes"
      ]
    },
    {
      "cell_type": "markdown",
      "metadata": {
        "id": "SGRFOWaymuA0"
      },
      "source": [
        "## 4.1 (10%) Use Scikit Learn's decision tree on the voting dataset and compare your results. Try different parameters and report what parameters perform best on the test set. "
      ]
    },
    {
      "cell_type": "markdown",
      "metadata": {
        "id": "MZSoe3KtmuA0"
      },
      "source": [
        "### 4.1.1 sklearn on Voting Dataset\n",
        "- Use this [Voting Dataset with missing values (voting_with_missing.arff)](https://byu.instructure.com/courses/14142/files?preview=4622298)"
      ]
    },
    {
      "cell_type": "code",
      "execution_count": null,
      "metadata": {
        "id": "W4c7V2YNmuA0"
      },
      "outputs": [],
      "source": [
        "# Use sklearn's Decision Tree to learn the voting dataset\n",
        "\n",
        "# Explore different parameters\n",
        "\n",
        "# Report results"
      ]
    },
    {
      "cell_type": "markdown",
      "metadata": {
        "id": "x3vIBR7ImuA0"
      },
      "source": [
        "Discuss results & compare to your method's results"
      ]
    },
    {
      "cell_type": "markdown",
      "metadata": {
        "id": "ad8tZQhRmuA0"
      },
      "source": [
        "## 4.2 (10%) Choose a data set of your choice (not already used in this or previous labs) and use the sklearn decision tree to learn it. Experiment with different hyper-parameters to try to get the best results possible."
      ]
    },
    {
      "cell_type": "code",
      "execution_count": null,
      "metadata": {
        "id": "Inl9skMNmuA0"
      },
      "outputs": [],
      "source": [
        "# Use sklearn's Decision Tree on a new dataset\n",
        "\n",
        "# Experiment with different hyper-parameters"
      ]
    },
    {
      "cell_type": "markdown",
      "metadata": {
        "id": "d5O6u5DdmuA1"
      },
      "source": [
        "## 5. (5%) Visualize sklearn's decision tree for your chosen data set (using export_graphviz or another tool) and discuss what you find. If your tree is too deep to reasonably fit on one page, show only the first few levels (e.g., top 5)."
      ]
    },
    {
      "cell_type": "code",
      "execution_count": null,
      "metadata": {
        "id": "P6-6es-pmuA1"
      },
      "outputs": [],
      "source": [
        "# Include decision tree visualization here\n",
        "\n",
        "# Discuss what the model has learned"
      ]
    },
    {
      "cell_type": "markdown",
      "metadata": {
        "id": "YIbsDAyxmuA1"
      },
      "source": [
        "## 6. (optional 5% extra credit) Implement reduced error pruning to help avoid overfitting.  \n",
        "- You will need to take a validation set out of your training data to do this, while still having a test set to test your final accuracy. \n",
        "- Create a table comparing your decision tree implementation's results on the cars and voting data sets with and without reduced error pruning. \n",
        "- This table should compare:\n",
        "    - a) The # of nodes (including leaf nodes) and tree depth of the final decision trees \n",
        "    - b) The generalization (test set) accuracy. (For the unpruned 10-fold CV models, just use their average values in the table)."
      ]
    }
  ],
  "metadata": {
    "kernelspec": {
      "display_name": "Python 3",
      "language": "python",
      "name": "python3"
    },
    "language_info": {
      "codemirror_mode": {
        "name": "ipython",
        "version": 3
      },
      "file_extension": ".py",
      "mimetype": "text/x-python",
      "name": "python",
      "nbconvert_exporter": "python",
      "pygments_lexer": "ipython3",
      "version": "3.9.0"
    },
    "colab": {
      "name": "lab_3_decision_tree.ipynb",
      "provenance": [],
      "collapsed_sections": [],
      "include_colab_link": true
    }
  },
  "nbformat": 4,
  "nbformat_minor": 0
}