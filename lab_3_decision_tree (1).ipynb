{
  "cells": [
    {
      "cell_type": "markdown",
      "metadata": {
        "id": "fxnT6qYjmuAl"
      },
      "source": [
        "# Decision Tree Lab"
      ]
    },
    {
      "cell_type": "code",
      "execution_count": null,
      "metadata": {
        "id": "z4PM4YMtmuAo"
      },
      "outputs": [],
      "source": [
        "from sklearn.base import BaseEstimator, ClassifierMixin\n",
        "from sklearn.tree import DecisionTreeClassifier\n",
        "import numpy as np\n",
        "import matplotlib.pyplot as plt"
      ]
    },
    {
      "cell_type": "markdown",
      "metadata": {
        "id": "UR8Tao6WmuAq"
      },
      "source": [
        "## 1. (40%) Correctly implement the ID3 decision tree algorithm, including the ability to handle unknown attributes (You do not need to handle real valued attributes).  \n",
        "### Code Requirements/Notes:\n",
        "- Use standard information gain as your basic attribute evaluation metric.  (Note that normal ID3 would usually augment information gain with gain ratio or some other mechanism to penalize statistically insignificant attribute splits.) \n",
        "- You are welcome to create other classes and/or functions in addition to the ones provided below. (e.g. If you build out a tree structure, you might create a node class).\n",
        "- It is a good idea to use a simple data set (like the lenses data or the pizza homework), which you can check by hand, to test your algorithm to make sure that it is working correctly. "
      ]
    },
    {
      "cell_type": "code",
      "source": [
        "import math \n",
        "#--------NODE CLASS-------------\n",
        "class Node():\n",
        "\n",
        "  def __init__(self, data_array, attr_count=None, parent_entropy=None):\n",
        "    \"\"\"\n",
        "    Args:\n",
        "        parent_entropy [float]: the entropy of the parent node\n",
        "        data_array [2D numpy array]: this is an array of the input and target data that only that has been sliced to only include elements filtered by its' parents\n",
        "        attr_count [int]: this is the value from the count list that corresponds to the attribute being considered (the number of attributes in the category remaining)\n",
        "    \"\"\"\n",
        "    self.parent_entropy = parent_entropy\n",
        "    self.data_array_of_parent = data_array\n",
        "    self.attr_count = attr_count \n",
        "    self.proportions = []\n",
        "    self.avrg_entropies_possible_children = []\n",
        "\n",
        "  def calc_parent_entropy(self):\n",
        "    parent_class_props = self.proportions[-1] # the targets are on the last column\n",
        "    self.parent_entropy = self.calc_entropy(parent_class_props)\n",
        "    return self\n",
        "\n",
        "  def calc_proportions(self):\n",
        "    num_cols = self.data_array_of_parent.shape[1]\n",
        "    for i in range(num_cols):\n",
        "      class_counts = np.bincount(self.data_array_of_parent[:,i])\n",
        "      class_props = class_counts / np.sum(class_counts)\n",
        "      self.proportions.append(class_props)\n",
        "    return self\n",
        "\n",
        "  def calc_entropy(self,proportions_tup):\n",
        "    num_elements = len(proportions_tup)\n",
        "    entropy = 0\n",
        "    for i in range(num_elements):\n",
        "      entropy += -proportions_tup[i]*math.log2(proportions_tup[i])\n",
        "    return entropy\n",
        "\n",
        "  def calc_average_entropies(self):\n",
        "    for child in range(len(self.proportions)):\n",
        "      child_props = self.proportions[child]\n",
        "      entropy = 0\n",
        "      for attr in range(child_props.shape[0]):\n",
        "        data_array = self.data_array_of_parent[self.data_array_of_parent[:,child] == attr]\n",
        "        attr_props = np.bincount(data_array[:])\n",
        "        entropy += child_props[attr]\n",
        "\n",
        "  def get_parent_entropy(self):\n",
        "    return self.parent_entropy\n",
        "\n",
        "  def get_proportions(self):\n",
        "    return self.proportions\n",
        "  "
      ],
      "metadata": {
        "id": "h95I5S05SjMV"
      },
      "execution_count": null,
      "outputs": []
    },
    {
      "cell_type": "code",
      "source": [
        "HW_data = np.array([['Y', 'Thin', 'N', 'Great'],\n",
        "                    ['N','Deep', 'N', 'Bad'],\n",
        "                    ['N', 'Stuffed', 'Y','Good'],\n",
        "                    ['Y', 'Stuffed','Y','Great'],\n",
        "                    ['Y','Deep','N','Good'],\n",
        "                    ['Y','Deep','Y','Great'],\n",
        "                    ['N','Thin','Y','Good'],\n",
        "                    ['Y','Deep','N','Good'],\n",
        "                    ['N','Thin','N','Bad']])\n",
        "# N = 0; Y = 1; \n",
        "# Deep = 0; Stuffed = 1; Thin = 2\n",
        "# Bad = 0; Good = 1; Great = 2\n",
        "\n",
        "HW_data[HW_data == 'Y'] = 1\n",
        "HW_data[HW_data == 'N'] = 0\n",
        "HW_data[HW_data == 'Deep'] = 0\n",
        "HW_data[HW_data == 'Stuffed'] = 1\n",
        "HW_data[HW_data == 'Thin'] = 2\n",
        "HW_data[HW_data == 'Bad'] = 0\n",
        "HW_data[HW_data == 'Good'] = 1\n",
        "HW_data[HW_data == 'Great'] = 2\n",
        "HW_data = HW_data.astype(int)\n",
        "print(HW_data)\n",
        "\n",
        "node = Node(HW_data)\n",
        "node.calc_proportions().calc_parent_entropy()\n",
        "print('parent entropy: ', node.get_parent_entropy())\n",
        "print('proportions: ', node.get_proportions())"
      ],
      "metadata": {
        "colab": {
          "base_uri": "https://localhost:8080/"
        },
        "id": "mpQqqmCGr0q3",
        "outputId": "88f91f7b-2c22-469a-d0c6-997861f1ec07"
      },
      "execution_count": null,
      "outputs": [
        {
          "output_type": "stream",
          "name": "stdout",
          "text": [
            "[[1 2 0 2]\n",
            " [0 0 0 0]\n",
            " [0 1 1 1]\n",
            " [1 1 1 2]\n",
            " [1 0 0 1]\n",
            " [1 0 1 2]\n",
            " [0 2 1 1]\n",
            " [1 0 0 1]\n",
            " [0 2 0 0]]\n",
            "parent entropy:  1.5304930567574826\n",
            "proportions:  [array([0.44444444, 0.55555556]), array([0.44444444, 0.22222222, 0.33333333]), array([0.55555556, 0.44444444]), array([0.22222222, 0.44444444, 0.33333333])]\n"
          ]
        }
      ]
    },
    {
      "cell_type": "code",
      "source": [
        "def calc_entropy(proportions_tup):\n",
        "  num_elements = len(proportions_tup)\n",
        "  entropy = 0\n",
        "  for i in range(num_elements):\n",
        "    entropy += -proportions_tup[i]*math.log2(proportions_tup[i])\n",
        "  return entropy\n",
        "\n",
        "def calc_avrg_entropy(proportions_list):\n",
        "  entropies = calc_entropy(proportions_list)\n",
        "  "
      ],
      "metadata": {
        "id": "l9bYkmMHzQWN"
      },
      "execution_count": null,
      "outputs": []
    },
    {
      "cell_type": "code",
      "source": [
        "HW_data = np.array([['Y', 'Thin', 'N', 'Great'],\n",
        "                    ['N','Deep', 'N', 'Bad'],\n",
        "                    ['N', 'Stuffed', 'Y','Good'],\n",
        "                    ['Y', 'Stuffed','Y','Great'],\n",
        "                    ['Y','Deep','N','Good'],\n",
        "                    ['Y','Deep','Y','Great'],\n",
        "                    ['N','Thin','Y','Good'],\n",
        "                    ['Y','Deep','N','Good'],\n",
        "                    ['N','Thin','N','Bad']])\n",
        "# N = 0; Y = 1; \n",
        "# Deep = 0; Stuffed = 1; Thin = 2\n",
        "# Bad = 0; Good = 1; Great = 2\n",
        "\n",
        "HW_data[HW_data == 'Y'] = 1\n",
        "HW_data[HW_data == 'N'] = 0\n",
        "HW_data[HW_data == 'Deep'] = 0\n",
        "HW_data[HW_data == 'Stuffed'] = 1\n",
        "HW_data[HW_data == 'Thin'] = 2\n",
        "HW_data[HW_data == 'Bad'] = 0\n",
        "HW_data[HW_data == 'Good'] = 1\n",
        "HW_data[HW_data == 'Great'] = 2\n",
        "HW_data = HW_data.astype(int)\n",
        "print(HW_data)\n",
        "\n",
        "counts = [2,3,2,3]\n",
        "proportions_list = []\n",
        "for col in range(len(counts)):\n",
        "  prop = np.bincount(HW_data[:,col])\n",
        "  prop = prop / np.sum(prop)\n",
        "  proportions_list.append(prop)\n",
        "print(proportions_list)\n",
        "\n",
        "# children_entropies = []\n",
        "# for i in range(len(proportions_list)):\n",
        "#   children_entropies.append(calc_entropy(proportions_list[i]))\n",
        "# print('children_entropies', children_entropies)\n",
        "\n",
        "zero_meat = HW_data[HW_data[:,0] == 0] \n",
        "print(zero_meat)\n",
        "prop = np.bincount(zero_meat[:,-1])\n",
        "print(prop)\n",
        "\n",
        "# print(HW_data)\n",
        "# counts = [2,3,2,3]\n",
        "# el_counts_col = []\n",
        "# for col in range(len(counts)):\n",
        "#   elem_counts = ()\n",
        "#   total_rows = HW_data.shape[0]\n",
        "#   for j in range(counts[col]):\n",
        "#     attr_count = np.sum(HW_data[:,col] == j)\n",
        "#     elem_counts = elem_counts + (attr_count/total_rows,)\n",
        "#   el_counts_col.append(elem_counts)\n",
        "# print(el_counts_col)\n",
        "\n",
        "print('entropy of root node',calc_entropy(proportions_list[-1]))\n",
        "\n"
      ],
      "metadata": {
        "colab": {
          "base_uri": "https://localhost:8080/"
        },
        "id": "SEHcED2uHokG",
        "outputId": "c6754013-2253-4881-9be0-ec084db3115a"
      },
      "execution_count": null,
      "outputs": [
        {
          "output_type": "stream",
          "name": "stdout",
          "text": [
            "[[1 2 0 2]\n",
            " [0 0 0 0]\n",
            " [0 1 1 1]\n",
            " [1 1 1 2]\n",
            " [1 0 0 1]\n",
            " [1 0 1 2]\n",
            " [0 2 1 1]\n",
            " [1 0 0 1]\n",
            " [0 2 0 0]]\n",
            "[array([0.44444444, 0.55555556]), array([0.44444444, 0.22222222, 0.33333333]), array([0.55555556, 0.44444444]), array([0.22222222, 0.44444444, 0.33333333])]\n",
            "[[0 0 0 0]\n",
            " [0 1 1 1]\n",
            " [0 2 1 1]\n",
            " [0 2 0 0]]\n",
            "[2 2]\n",
            "entropy of root node 1.5304930567574826\n"
          ]
        }
      ]
    },
    {
      "cell_type": "code",
      "execution_count": null,
      "metadata": {
        "id": "FZntcQT9muAr"
      },
      "outputs": [],
      "source": [
        "class DTClassifier(BaseEstimator,ClassifierMixin):\n",
        "\n",
        "    def __init__(self,counts=None):\n",
        "        \"\"\" Initialize class with chosen hyperparameters.\n",
        "        Args:\n",
        "        Optional Args (Args we think will make your life easier):\n",
        "            counts: A list of Ints that tell you how many types of each feature there are\n",
        "        Example:\n",
        "            DT  = DTClassifier()\n",
        "            or\n",
        "            DT = DTClassifier(count = [2,3,2,2])\n",
        "            Dataset = \n",
        "            [[0,1,0,0],\n",
        "            [1,2,1,1],\n",
        "            [0,1,1,0],\n",
        "            [1,2,0,1],\n",
        "            [0,0,1,1]]\n",
        "\n",
        "        \"\"\"\n",
        "        \n",
        "\n",
        "    def fit(self, X, y):\n",
        "        \"\"\" Fit the data; Make the Decision tree\n",
        "\n",
        "        Args:\n",
        "            X (array-like): A 2D numpy array with the training data, excluding targets\n",
        "            y (array-like): A 1D numpy array with the training targets\n",
        "\n",
        "        Returns:\n",
        "            self: this allows this to be chained, e.g. model.fit(X,y).predict(X_test)\n",
        "\n",
        "        \"\"\"\n",
        "        # \n",
        "        return self\n",
        "\n",
        "    def predict(self, X):\n",
        "        \"\"\" Predict all classes for a dataset X\n",
        "\n",
        "        Args:\n",
        "            X (array-like): A 2D numpy array with the training data, excluding targets\n",
        "\n",
        "        Returns:\n",
        "            array, shape (n_samples,)\n",
        "                Predicted target values per element in X.\n",
        "        \"\"\"\n",
        "        pass\n",
        "\n",
        "\n",
        "    def score(self, X, y):\n",
        "        \"\"\" Return accuracy(Classification Acc) of model on a given dataset. Must implement own score function.\n",
        "\n",
        "        Args:\n",
        "            X (array-like): A 2D numpy array with data, excluding targets\n",
        "            y (array-like): A 1D numpy array of the targets \n",
        "        \"\"\"\n",
        "        return 0\n",
        "\n"
      ]
    },
    {
      "cell_type": "markdown",
      "metadata": {
        "id": "jNKT1oNUmuAs"
      },
      "source": [
        "## 1.1 Debug\n",
        "\n",
        "Debug your model by training on the lenses dataset: [Debug Dataset (lenses.arff)](https://byu.instructure.com/courses/14142/files?preview=4622251)\n",
        "\n",
        "Test your model on the lenses test set: [Debug Test Dataset (lenses_test.arff)](https://byu.instructure.com/courses/14142/files?preview=4622254)\n",
        "\n",
        "Parameters:\n",
        "(optional) counts = [3,2,2,2] (You should compute this when you read in the data, before fitting)\n",
        "\n",
        "---\n",
        "\n",
        "Expected Results: Accuracy = [0.33]\n",
        "\n",
        "Predictions should match this file: [Lenses Predictions (pred_lenses.csv)](https://byu.instructure.com/courses/14142/files?preview=4622260)\n",
        "\n",
        "*NOTE: The [Lenses Prediction (pred_lenses.csv)](https://byu.instructure.com/courses/14142/files?preview=4622260) uses the following encoding: soft=2, hard=0, none=1. If your encoding is different, then your output will be different, but not necessarily incorrect.*\n",
        "\n",
        "Split Information Gains (These do not need to be in this exact order):\n",
        "\n",
        "[0.5487949406953987, 0.7704260414863775, 0.3166890883150208, 1.0, 0.4591479170272447, 0.9182958340544894]\n",
        "\n",
        "<!-- You should be able to get about 68% (61%-82%) predictive accuracy on the lenses data -->\n",
        "\n",
        "Here's what your decision tree splits should look like, and the corresponding child node predictions:\n",
        "\n",
        "Decision Tree:\n",
        "<pre>\n",
        "tear_prod_rate = normal:\n",
        "    astigmatism = no:\n",
        "        age = pre_presbyopic:\n",
        "            prediction: soft\n",
        "        age = presbyopic:\n",
        "            spectacle_prescrip = hypermetrope:\n",
        "                prediction: soft\n",
        "            spectacle_prescrip = myope:\n",
        "                prediction: none\n",
        "        age = young:\n",
        "            prediction: soft\n",
        "    astigmatism = yes:\n",
        "        spectacle_prescrip = hypermetrope:\n",
        "            age = pre_presbyopic:\n",
        "                prediction: none\n",
        "            age = presbyopic:\n",
        "                prediction: none\n",
        "            age = young:\n",
        "                prediction: hard\n",
        "        spectacle_prescrip = myope:\n",
        "            prediction: hard\n",
        "tear_prod_rate = reduced:\n",
        "    prediction: none\n",
        "</pre>"
      ]
    },
    {
      "cell_type": "code",
      "execution_count": null,
      "metadata": {
        "id": "A5WsJACLmuAt"
      },
      "outputs": [],
      "source": [
        "# Load debug training data \n",
        "\n",
        "\n",
        "# Train Decision Tree\n",
        "\n",
        "\n",
        "# Load debug test data\n",
        "\n",
        "\n",
        "# Predict and compute model accuracy\n",
        "\n",
        "\n",
        "# Print the information gain of every split you make.\n"
      ]
    },
    {
      "cell_type": "code",
      "execution_count": null,
      "metadata": {
        "id": "cgUPhI6bmuAt"
      },
      "outputs": [],
      "source": [
        "# Optional/Additional Debugging Dataset - Pizza Homework\n",
        "# pizza_dataset = np.array([[1,2,0],[0,0,0],[0,1,1],[1,1,1],[1,0,0],[1,0,1],[0,2,1],[1,0,0],[0,2,0]])\n",
        "# pizza_labels = np.array([2,0,1,2,1,2,1,1,0])"
      ]
    },
    {
      "cell_type": "markdown",
      "metadata": {
        "id": "EMmh1D0PmuAu"
      },
      "source": [
        "## 1.2 Evaluation\n",
        "\n",
        "We will evaluate your model based on its performance on the zoo dataset. \n",
        "\n",
        "Train your model using this dataset: [Evaluation Train Dataset (zoo.arff)](https://byu.instructure.com/courses/14142/files?preview=4622270)\n",
        "\n",
        "Test your model on this dataset: [Evaluation Test Dataset (zoo_test.arff)](https://byu.instructure.com/courses/14142/files?preview=4622274)\n",
        "\n",
        "Parameters:\n",
        "(optional) counts = [2, 2, 2, 2, 2, 2, 2, 2, 2, 2, 2, 2, 6, 2, 2, 2] (You should compute this when you read in the data, before fitting)\n",
        "\n",
        "---\n",
        "Print out your accuracy on the evaluation test dataset.\n",
        "\n",
        "Print out the information gain of every split you make."
      ]
    },
    {
      "cell_type": "code",
      "execution_count": null,
      "metadata": {
        "id": "RTkt1squmuAv"
      },
      "outputs": [],
      "source": [
        "# Load evaluation training data\n",
        "\n",
        "\n",
        "# Train Decision Tree\n",
        "\n",
        "\n",
        "# Load evaluation test data\n",
        "\n",
        "\n",
        "# Print out the information gain for every split you make\n",
        "\n"
      ]
    },
    {
      "cell_type": "markdown",
      "metadata": {
        "id": "8edh2HFWmuAv"
      },
      "source": [
        "## 2. (20%) You will use your ID3 algorithm to induce decision trees for the cars dataset and the voting dataset.  Do not use a stopping criterion, but induce the tree as far as it can go (until classes are pure or there are no more data or attributes to split on).  \n",
        "- Implement and use 10-fold Cross Validation (CV) on each data set to predict how well the models will do on novel data.  \n",
        "- For each dataset, report the training and test classification accuracy for each fold and the average test accuracy. \n",
        "- As a rough sanity check, typical decision tree accuracies for these data sets are: Cars: .90-.95, Vote: .92-.95."
      ]
    },
    {
      "cell_type": "markdown",
      "metadata": {
        "id": "vjLh24oDmuAw"
      },
      "source": [
        "## 2.1 Implement 10-fold Cross Validation"
      ]
    },
    {
      "cell_type": "code",
      "execution_count": null,
      "metadata": {
        "id": "-lnd6N25muAw"
      },
      "outputs": [],
      "source": [
        "# Write a function that implements 10-fold cross validation"
      ]
    },
    {
      "cell_type": "markdown",
      "metadata": {
        "id": "tnGxm88EmuAw"
      },
      "source": [
        "##  2.2 Cars Dataset\n",
        "- Use this [Cars Dataset (cars.arff)](hhttps://byu.instructure.com/courses/14142/files?preview=4622293)\n",
        "- Make a table for your k-fold cross validation accuracies\n",
        "\n",
        "*If you are having trouble using scipy's loadarff function (scipy.io.arff.loadarff), try:*\n",
        "\n",
        "*pip install arff &nbsp;&nbsp;&nbsp;&nbsp;          # Install arff library*\n",
        "\n",
        "*import arff as arf*                   \n",
        "\n",
        "*cars = list(arf.load('cars.arff'))   &nbsp;&nbsp;&nbsp;&nbsp;# Load your downloaded dataset (!curl, etc.)*\n",
        "\n",
        "*df = pd.DataFrame(cars)*  \n",
        "\n",
        "*There may be additional cleaning needed*"
      ]
    },
    {
      "cell_type": "code",
      "execution_count": null,
      "metadata": {
        "id": "WQTa7AecmuAx"
      },
      "outputs": [],
      "source": [
        "# Use 10-fold CV on Cars Dataset\n",
        "\n",
        "# Report Training and Test Classification Accuracies\n",
        "\n",
        "# Report Average Test Accuracy"
      ]
    },
    {
      "cell_type": "markdown",
      "metadata": {
        "id": "s9ul48zkmuAx"
      },
      "source": [
        "## 2.3 Voting Dataset\n",
        "- Use this [Voting Dataset with missing values (voting_with_missing.arff)](https://byu.instructure.com/courses/14142/files?preview=4622298)\n",
        "- Note that you will need to support unknown attributes in the voting data set. "
      ]
    },
    {
      "cell_type": "code",
      "execution_count": null,
      "metadata": {
        "id": "CmWdEbGxmuAx"
      },
      "outputs": [],
      "source": [
        "# Used 10-fold CV on Voting Dataset\n",
        "\n",
        "# Report Training and Test Classification Accuracies\n",
        "\n",
        "# Report Average Test Accuracy"
      ]
    },
    {
      "cell_type": "markdown",
      "metadata": {
        "id": "_8PraMbJmuAy"
      },
      "source": [
        "## 2.4 Discuss Your Results\n",
        "\n",
        "- Summarize your results from both datasets, and discuss what you observed. \n",
        "- A fully expanded tree will often get 100% accuracy on the training set. Why does this happen and in what cases might it not?  "
      ]
    },
    {
      "cell_type": "markdown",
      "metadata": {
        "id": "6poS45-CmuAy"
      },
      "source": [
        "Discuss your results"
      ]
    },
    {
      "cell_type": "markdown",
      "metadata": {
        "id": "swx-3h5_muAy"
      },
      "source": [
        "## 3. (15%) For each of the two problems above, summarize in English what the decision tree has learned (i.e., look at the induced tree and describe what rules it has discovered to try to solve each task). \n",
        "- If the tree is very large you can just discuss a few of the more shallow attribute combinations and the most important decisions made high in the tree."
      ]
    },
    {
      "cell_type": "markdown",
      "metadata": {
        "id": "BHrhN-sJmuAy"
      },
      "source": [
        "## 3.1 Discuss what the decision tree induced on the cars dataset has learned"
      ]
    },
    {
      "cell_type": "markdown",
      "metadata": {
        "id": "xbcT0lr7muAz"
      },
      "source": [
        "Discussion Here"
      ]
    },
    {
      "cell_type": "markdown",
      "metadata": {
        "id": "vJcvXPKJmuAz"
      },
      "source": [
        "## 3.2 Discuss what the decision tree induced on the voting dataset has learned"
      ]
    },
    {
      "cell_type": "markdown",
      "metadata": {
        "id": "SRWflACnmuAz"
      },
      "source": [
        "Discussion Here"
      ]
    },
    {
      "cell_type": "markdown",
      "metadata": {
        "id": "OkkfBYODmuAz"
      },
      "source": [
        "## 3.3 How did you handle unknown attributes in the voting problem? Why did you choose this approach? (Do not use the approach of just throwing out data with unknown attributes)."
      ]
    },
    {
      "cell_type": "markdown",
      "metadata": {
        "id": "4E-K0slxmuAz"
      },
      "source": [
        "Discuss how you handled unknown attributes"
      ]
    },
    {
      "cell_type": "markdown",
      "metadata": {
        "id": "SGRFOWaymuA0"
      },
      "source": [
        "## 4.1 (10%) Use Scikit Learn's decision tree on the voting dataset and compare your results. Try different parameters and report what parameters perform best on the test set. "
      ]
    },
    {
      "cell_type": "markdown",
      "metadata": {
        "id": "MZSoe3KtmuA0"
      },
      "source": [
        "### 4.1.1 sklearn on Voting Dataset\n",
        "- Use this [Voting Dataset with missing values (voting_with_missing.arff)](https://byu.instructure.com/courses/14142/files?preview=4622298)"
      ]
    },
    {
      "cell_type": "code",
      "execution_count": null,
      "metadata": {
        "id": "W4c7V2YNmuA0"
      },
      "outputs": [],
      "source": [
        "# Use sklearn's Decision Tree to learn the voting dataset\n",
        "\n",
        "# Explore different parameters\n",
        "\n",
        "# Report results"
      ]
    },
    {
      "cell_type": "markdown",
      "metadata": {
        "id": "x3vIBR7ImuA0"
      },
      "source": [
        "Discuss results & compare to your method's results"
      ]
    },
    {
      "cell_type": "markdown",
      "metadata": {
        "id": "ad8tZQhRmuA0"
      },
      "source": [
        "## 4.2 (10%) Choose a data set of your choice (not already used in this or previous labs) and use the sklearn decision tree to learn it. Experiment with different hyper-parameters to try to get the best results possible."
      ]
    },
    {
      "cell_type": "code",
      "execution_count": null,
      "metadata": {
        "id": "Inl9skMNmuA0"
      },
      "outputs": [],
      "source": [
        "# Use sklearn's Decision Tree on a new dataset\n",
        "\n",
        "# Experiment with different hyper-parameters"
      ]
    },
    {
      "cell_type": "markdown",
      "metadata": {
        "id": "d5O6u5DdmuA1"
      },
      "source": [
        "## 5. (5%) Visualize sklearn's decision tree for your chosen data set (using export_graphviz or another tool) and discuss what you find. If your tree is too deep to reasonably fit on one page, show only the first few levels (e.g., top 5)."
      ]
    },
    {
      "cell_type": "code",
      "execution_count": null,
      "metadata": {
        "id": "P6-6es-pmuA1"
      },
      "outputs": [],
      "source": [
        "# Include decision tree visualization here\n",
        "\n",
        "# Discuss what the model has learned"
      ]
    },
    {
      "cell_type": "markdown",
      "metadata": {
        "id": "YIbsDAyxmuA1"
      },
      "source": [
        "## 6. (optional 5% extra credit) Implement reduced error pruning to help avoid overfitting.  \n",
        "- You will need to take a validation set out of your training data to do this, while still having a test set to test your final accuracy. \n",
        "- Create a table comparing your decision tree implementation's results on the cars and voting data sets with and without reduced error pruning. \n",
        "- This table should compare:\n",
        "    - a) The # of nodes (including leaf nodes) and tree depth of the final decision trees \n",
        "    - b) The generalization (test set) accuracy. (For the unpruned 10-fold CV models, just use their average values in the table)."
      ]
    }
  ],
  "metadata": {
    "kernelspec": {
      "display_name": "Python 3",
      "language": "python",
      "name": "python3"
    },
    "language_info": {
      "codemirror_mode": {
        "name": "ipython",
        "version": 3
      },
      "file_extension": ".py",
      "mimetype": "text/x-python",
      "name": "python",
      "nbconvert_exporter": "python",
      "pygments_lexer": "ipython3",
      "version": "3.9.0"
    },
    "colab": {
      "name": "lab_3_decision_tree.ipynb",
      "provenance": [],
      "collapsed_sections": []
    }
  },
  "nbformat": 4,
  "nbformat_minor": 0
}